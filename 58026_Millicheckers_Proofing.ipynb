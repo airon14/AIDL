{
  "nbformat": 4,
  "nbformat_minor": 0,
  "metadata": {
    "colab": {
      "name": "58026_Millicheckers_Proofing.ipynb",
      "provenance": [],
      "collapsed_sections": [],
      "include_colab_link": true
    },
    "kernelspec": {
      "name": "python3",
      "display_name": "Python 3"
    },
    "language_info": {
      "name": "python"
    }
  },
  "cells": [
    {
      "cell_type": "markdown",
      "metadata": {
        "id": "view-in-github",
        "colab_type": "text"
      },
      "source": [
        "<a href=\"https://colab.research.google.com/github/airon14/AIDL/blob/main/58026_Millicheckers_Proofing.ipynb\" target=\"_parent\"><img src=\"https://colab.research.google.com/assets/colab-badge.svg\" alt=\"Open In Colab\"/></a>"
      ]
    },
    {
      "cell_type": "markdown",
      "source": [
        "#1"
      ],
      "metadata": {
        "id": "UxnK7mntrLVU"
      }
    },
    {
      "cell_type": "markdown",
      "source": [
        "In this first part it is about creating a activate function for the requirement, we created two parameters which are x and y and also we created four conditions that can be seen when we print or run the code. It successfuly display the output for the NOR gate."
      ],
      "metadata": {
        "id": "nOGtCSUclkwB"
      }
    },
    {
      "cell_type": "code",
      "execution_count": null,
      "metadata": {
        "id": "iyonr64l9LYT"
      },
      "outputs": [],
      "source": [
        "import numpy as np"
      ]
    },
    {
      "cell_type": "code",
      "source": [
        "def activation_function(y):\n",
        "    if y > 0:\n",
        "        y = 1\n",
        "    elif y <= 0:\n",
        "        y = 0\n",
        "    return y\n",
        "W = np.array([-1, -1])\n",
        "b = 1\n",
        "\n",
        "def p_algo(x):\n",
        "\n",
        "    y = np.dot(W, x) + b\n",
        "    y = activation_function(y)\n",
        "    return y\n",
        "    \n",
        "input1 =([0, 0])\n",
        "input2 =([0, 1])\n",
        "input3 =([1, 0])\n",
        "input4 =([1, 1])"
      ],
      "metadata": {
        "id": "GvLgCUZ4ayMY"
      },
      "execution_count": null,
      "outputs": []
    },
    {
      "cell_type": "code",
      "source": [
        "print(\" x1  x2  y  gate\")\n",
        "print(\" 0   0  \", p_algo(input1),\" nor \")\n",
        "print(\" 0   1  \", p_algo(input2),\" nor \")\n",
        "print(\" 1   0  \", p_algo(input3),\" nor \")\n",
        "print(\" 1   1  \", p_algo(input4),\" nor \")"
      ],
      "metadata": {
        "colab": {
          "base_uri": "https://localhost:8080/"
        },
        "id": "dwZZnPkIb8D_",
        "outputId": "4f44eec1-cbe9-41c7-85a0-738f1d9d6134"
      },
      "execution_count": null,
      "outputs": [
        {
          "output_type": "stream",
          "name": "stdout",
          "text": [
            " x1  x2  y  gate\n",
            " 0   0   1  nor \n",
            " 0   1   0  nor \n",
            " 1   0   0  nor \n",
            " 1   1   0  nor \n"
          ]
        }
      ]
    },
    {
      "cell_type": "markdown",
      "source": [
        "#2"
      ],
      "metadata": {
        "id": "0gIkueXUsDF3"
      }
    },
    {
      "cell_type": "markdown",
      "source": [
        "For the 2nd requirement x were declared as the input and w1, w2, and w3 were the weights"
      ],
      "metadata": {
        "id": "vKeZ9tvTgMsH"
      }
    },
    {
      "cell_type": "code",
      "source": [
        "x = np.array([1,0])\n",
        "w1 = np.array([1,-1]),([-1,1])\n",
        "w2 = np.array([1,2]),([2,1])\n",
        "w3 = np.array([-1,1])\n",
        "d= 2.86"
      ],
      "metadata": {
        "id": "SVu4zFza9PaC"
      },
      "execution_count": null,
      "outputs": []
    },
    {
      "cell_type": "markdown",
      "source": [
        "#3"
      ],
      "metadata": {
        "id": "MpAC4xFQsjLt"
      }
    },
    {
      "cell_type": "markdown",
      "source": [
        "For the 3rd requirement function \"f_prop\" were created for the front propagation. The function contains 4 parameters x, w1, w2, and w3. \"tanh\" is used for the activation function. It returns or display three values and this are the a1, a2, a3 as seen in the example below."
      ],
      "metadata": {
        "id": "5zdvd2_Vhf8T"
      }
    },
    {
      "cell_type": "code",
      "source": [
        "def f_prop(x, w1, w2, w3): \n",
        "  v1=np.dot(x,w1)\n",
        "  a1=np.tanh(v1)\n",
        "  v2=np.dot(a1,w2)\n",
        "  a2=np.tanh(v2)\n",
        "  v3=np.dot(a2,w3)\n",
        "  a3=np.tanh(v3)\n",
        "  return a1, a2, a3"
      ],
      "metadata": {
        "id": "itMJF1qhAAfl"
      },
      "execution_count": null,
      "outputs": []
    },
    {
      "cell_type": "code",
      "source": [
        "a1=f_prop(x, w1, w2, w3)[0]\n",
        "a1"
      ],
      "metadata": {
        "colab": {
          "base_uri": "https://localhost:8080/"
        },
        "id": "8eSa-TRU0awR",
        "outputId": "b431ec03-9d7d-4d31-8109-03e7e0c89851"
      },
      "execution_count": null,
      "outputs": [
        {
          "output_type": "execute_result",
          "data": {
            "text/plain": [
              "array([ 0.76159416, -0.76159416])"
            ]
          },
          "metadata": {},
          "execution_count": 38
        }
      ]
    },
    {
      "cell_type": "code",
      "source": [
        "a2=f_prop(x, w1, w2, w3)[1]\n",
        "a2"
      ],
      "metadata": {
        "colab": {
          "base_uri": "https://localhost:8080/"
        },
        "id": "VrKREmDYHBr-",
        "outputId": "4e37b0ce-07dc-4afc-e160-6b8eeadeb4b4"
      },
      "execution_count": null,
      "outputs": [
        {
          "output_type": "execute_result",
          "data": {
            "text/plain": [
              "array([-0.64201499,  0.64201499])"
            ]
          },
          "metadata": {},
          "execution_count": 39
        }
      ]
    },
    {
      "cell_type": "code",
      "source": [
        "z = f_prop(x, w1, w2, w3)[2]\n",
        "z"
      ],
      "metadata": {
        "colab": {
          "base_uri": "https://localhost:8080/"
        },
        "id": "zNRfn3CHvHxC",
        "outputId": "77eaad63-d232-480a-da4d-25bb44356bb3"
      },
      "execution_count": null,
      "outputs": [
        {
          "output_type": "execute_result",
          "data": {
            "text/plain": [
              "0.8575549394724464"
            ]
          },
          "metadata": {},
          "execution_count": 40
        }
      ]
    },
    {
      "cell_type": "markdown",
      "source": [
        "#4"
      ],
      "metadata": {
        "id": "phm31S9et9Rn"
      }
    },
    {
      "cell_type": "markdown",
      "source": [
        "For the third requirement we created a function \"b_prop\" and it has five parameters which are x, w1, w2, w3, and y (which is the tanh of a3). The function returns the values of w1, w2, and w3 as seen below."
      ],
      "metadata": {
        "id": "lZdQrgNmiPFW"
      }
    },
    {
      "cell_type": "code",
      "source": [
        "y=np.tanh(z)\n",
        "err = d-y \n",
        "err"
      ],
      "metadata": {
        "colab": {
          "base_uri": "https://localhost:8080/"
        },
        "id": "f_9KLu4ju6VC",
        "outputId": "de4ad597-dc19-4cc9-c1af-03baa5a80ca4"
      },
      "execution_count": null,
      "outputs": [
        {
          "output_type": "execute_result",
          "data": {
            "text/plain": [
              "2.1650042299812915"
            ]
          },
          "metadata": {},
          "execution_count": 41
        }
      ]
    },
    {
      "cell_type": "code",
      "source": [
        "def b_prop(x, w1, w2, w3, y): \n",
        "  a = 1-y\n",
        "  b = 1+y\n",
        "  r = a * b\n",
        "  de1 = err*r\n",
        "  r2 = (1-z)*(1+z)\n",
        "  learning_rate = 0.25\n",
        "  wn1 = w3 - (learning_rate*de1)*z\n",
        "  de2 = np.dot(w2,r2)*de1\n",
        "  wn2 = w2-(learning_rate*de2)*a2\n",
        "  r3 = (1-a2)*(1+a2)\n",
        "  de3 = np.dot(w1,r3)*de2\n",
        "  wn3 = w1 - (learning_rate*de3)*a1\n",
        "  return (wn1,wn2,wn3)"
      ],
      "metadata": {
        "id": "qK15hhDHCoU6"
      },
      "execution_count": null,
      "outputs": []
    },
    {
      "cell_type": "code",
      "source": [
        "b_prop(x, w1, w2, w3, y)[2]"
      ],
      "metadata": {
        "colab": {
          "base_uri": "https://localhost:8080/"
        },
        "id": "q4-HMxcYvrhP",
        "outputId": "336887ce-cc83-4f99-d03a-0d9f7cd4d12e"
      },
      "execution_count": null,
      "outputs": [
        {
          "output_type": "execute_result",
          "data": {
            "text/plain": [
              "array([[ 1., -1.],\n",
              "       [-1.,  1.]])"
            ]
          },
          "metadata": {},
          "execution_count": 43
        }
      ]
    },
    {
      "cell_type": "code",
      "source": [
        "b_prop(x, w1, w2, w3, y)[1]"
      ],
      "metadata": {
        "colab": {
          "base_uri": "https://localhost:8080/"
        },
        "id": "73HC33Zu1AFO",
        "outputId": "a7428e91-3fcd-4f87-9165-39443ab12a34"
      },
      "execution_count": null,
      "outputs": [
        {
          "output_type": "execute_result",
          "data": {
            "text/plain": [
              "array([[1.04753434, 1.90493132],\n",
              "       [2.09506868, 0.95246566]])"
            ]
          },
          "metadata": {},
          "execution_count": 44
        }
      ]
    },
    {
      "cell_type": "code",
      "source": [
        "b_prop(x, w1, w2, w3, y)[0]"
      ],
      "metadata": {
        "colab": {
          "base_uri": "https://localhost:8080/"
        },
        "id": "ehdrfPLC1CIQ",
        "outputId": "6b3b4611-bc6f-4176-d5fc-378a620312ca"
      },
      "execution_count": null,
      "outputs": [
        {
          "output_type": "execute_result",
          "data": {
            "text/plain": [
              "array([-1.23995798,  0.76004202])"
            ]
          },
          "metadata": {},
          "execution_count": 45
        }
      ]
    },
    {
      "cell_type": "markdown",
      "source": [
        "#5"
      ],
      "metadata": {
        "id": "Oh2EVtXfwfuJ"
      }
    },
    {
      "cell_type": "markdown",
      "source": [
        "For the last requirement, we displayed w1, w2, and w3 as the updated weights."
      ],
      "metadata": {
        "id": "dVNxcjP0i1ZL"
      }
    },
    {
      "cell_type": "code",
      "source": [
        "bprop0=b_prop(x, w1, w2, w3, y)[0]"
      ],
      "metadata": {
        "id": "YOsD2mkucvBw"
      },
      "execution_count": null,
      "outputs": []
    },
    {
      "cell_type": "code",
      "source": [
        "bprop1=b_prop(x, w1, w2, w3, y)[1]"
      ],
      "metadata": {
        "id": "C0rRLBHOctIp"
      },
      "execution_count": null,
      "outputs": []
    },
    {
      "cell_type": "code",
      "source": [
        "bprop2 = b_prop(x, w1, w2, w3, y)[2]"
      ],
      "metadata": {
        "id": "MkqHzPIZ1yGU"
      },
      "execution_count": null,
      "outputs": []
    },
    {
      "cell_type": "code",
      "source": [
        "print(\"Updated Weight 1: \",bprop0)\n",
        "print(\"Updated Weight 2: \",bprop1)\n",
        "print(\"Updated Weight 3: \",bprop2)"
      ],
      "metadata": {
        "colab": {
          "base_uri": "https://localhost:8080/"
        },
        "id": "Sy7kxzbewfGR",
        "outputId": "c049cb11-ac21-4ebf-e4c7-4554818cb966"
      },
      "execution_count": null,
      "outputs": [
        {
          "output_type": "stream",
          "name": "stdout",
          "text": [
            "Updated Weight 1:  [-1.23995798  0.76004202]\n",
            "Updated Weight 2:  [[1.04753434 1.90493132]\n",
            " [2.09506868 0.95246566]]\n",
            "Updated Weight 3:  [[ 1. -1.]\n",
            " [-1.  1.]]\n"
          ]
        }
      ]
    }
  ]
}